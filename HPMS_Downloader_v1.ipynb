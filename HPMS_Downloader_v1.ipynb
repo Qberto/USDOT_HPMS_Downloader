{
 "cells": [
  {
   "cell_type": "markdown",
   "metadata": {},
   "source": [
    "### Pseudocode\n",
    "\n",
    "Goal: Scripted process to download HPMS shapefiles from FHWA website, compile into a single feature class, and provide output as a single zipped file geodatabase. A second goal is to publish this data as a service using the ArcGIS API for Python.\n",
    "\n",
    "### Process\n",
    "\n",
    "1. Create list of download urls\n",
    "\n",
    "2. Iterate on the list, download zip, and execute main zip->shapefile->feature class conversion loop\n",
    "\n",
    "3. Merge all feature classes into a single feature class for nation-wide HPMS\n",
    "\n",
    "4. Provide output as zipped file geodatabase. \n",
    "\n",
    "\n",
    "### Dependencies\n",
    "\n",
    "- 'us' module. To install, run \"pip install us\"\n",
    "- 'arcpy' module"
   ]
  },
  {
   "cell_type": "code",
   "execution_count": 1,
   "metadata": {
    "collapsed": true
   },
   "outputs": [],
   "source": [
    "# Import needed modules\n",
    "import us\n",
    "import arcpy\n",
    "import os\n",
    "import requests\n",
    "import zipfile\n",
    "import io\n",
    "import datetime"
   ]
  },
  {
   "cell_type": "code",
   "execution_count": 8,
   "metadata": {
    "collapsed": true
   },
   "outputs": [],
   "source": [
    "# Set general variables\n",
    "workspace = r\"C:\\Users\\albe9057\\Documents\\ANieto_SolutionEngineering\\Projects\\DOT\\FHWA\\HPMS_Download\\Work\"\n",
    "outputs_dir = r\"C:\\Users\\albe9057\\Documents\\ANieto_SolutionEngineering\\Projects\\DOT\\FHWA\\HPMS_Download\\Outputs\""
   ]
  },
  {
   "cell_type": "markdown",
   "metadata": {},
   "source": [
    "### 1. Create list of download urls"
   ]
  },
  {
   "cell_type": "code",
   "execution_count": 2,
   "metadata": {
    "scrolled": true
   },
   "outputs": [
    {
     "data": {
      "text/plain": [
       "['alabama',\n",
       " 'alaska',\n",
       " 'arizona',\n",
       " 'arkansas',\n",
       " 'california',\n",
       " 'colorado',\n",
       " 'connecticut',\n",
       " 'delaware',\n",
       " 'districtofcolumbia',\n",
       " 'florida',\n",
       " 'georgia',\n",
       " 'hawaii',\n",
       " 'idaho',\n",
       " 'illinois',\n",
       " 'indiana',\n",
       " 'iowa',\n",
       " 'kansas',\n",
       " 'kentucky',\n",
       " 'louisiana',\n",
       " 'maine',\n",
       " 'maryland',\n",
       " 'massachusetts',\n",
       " 'michigan',\n",
       " 'minnesota',\n",
       " 'mississippi',\n",
       " 'missouri',\n",
       " 'montana',\n",
       " 'nebraska',\n",
       " 'nevada',\n",
       " 'newhampshire',\n",
       " 'newjersey',\n",
       " 'newmexico',\n",
       " 'newyork',\n",
       " 'northcarolina',\n",
       " 'northdakota',\n",
       " 'ohio',\n",
       " 'oklahoma',\n",
       " 'oregon',\n",
       " 'pennsylvania',\n",
       " 'rhodeisland',\n",
       " 'southcarolina',\n",
       " 'southdakota',\n",
       " 'tennessee',\n",
       " 'texas',\n",
       " 'utah',\n",
       " 'vermont',\n",
       " 'virginia',\n",
       " 'washington',\n",
       " 'westvirginia',\n",
       " 'wisconsin',\n",
       " 'wyoming']"
      ]
     },
     "execution_count": 2,
     "metadata": {},
     "output_type": "execute_result"
    }
   ],
   "source": [
    "states_list = [state.name.lower().replace(\" \", \"\") for state in us.states.STATES]\n",
    "states_list"
   ]
  },
  {
   "cell_type": "code",
   "execution_count": 3,
   "metadata": {
    "collapsed": true
   },
   "outputs": [],
   "source": [
    "# Create a state data crosswalk dictionary\n",
    "state_crosswalk_dict = {\n",
    "    \"districtofcolumbia\": 'district'\n",
    "}"
   ]
  },
  {
   "cell_type": "code",
   "execution_count": 4,
   "metadata": {
    "collapsed": true
   },
   "outputs": [],
   "source": [
    "# Perform state corrections for download urls\n",
    "for state in state_crosswalk_dict:\n",
    "    if state in states_list:\n",
    "        states_list.remove(state)\n",
    "        states_list.append(state_crosswalk_dict[state])"
   ]
  },
  {
   "cell_type": "code",
   "execution_count": 5,
   "metadata": {
    "collapsed": true
   },
   "outputs": [],
   "source": [
    "# Get the baseline part of the download url\n",
    "baseline_download_url = r\"https://www.fhwa.dot.gov/policyinformation/hpms/shapefiles/\"\n",
    "year = \"2015\""
   ]
  },
  {
   "cell_type": "code",
   "execution_count": 6,
   "metadata": {
    "scrolled": true
   },
   "outputs": [
    {
     "data": {
      "text/plain": [
       "['https://www.fhwa.dot.gov/policyinformation/hpms/shapefiles//alabama2015.zip',\n",
       " 'https://www.fhwa.dot.gov/policyinformation/hpms/shapefiles//alaska2015.zip',\n",
       " 'https://www.fhwa.dot.gov/policyinformation/hpms/shapefiles//arizona2015.zip',\n",
       " 'https://www.fhwa.dot.gov/policyinformation/hpms/shapefiles//arkansas2015.zip',\n",
       " 'https://www.fhwa.dot.gov/policyinformation/hpms/shapefiles//california2015.zip',\n",
       " 'https://www.fhwa.dot.gov/policyinformation/hpms/shapefiles//colorado2015.zip',\n",
       " 'https://www.fhwa.dot.gov/policyinformation/hpms/shapefiles//connecticut2015.zip',\n",
       " 'https://www.fhwa.dot.gov/policyinformation/hpms/shapefiles//delaware2015.zip',\n",
       " 'https://www.fhwa.dot.gov/policyinformation/hpms/shapefiles//florida2015.zip',\n",
       " 'https://www.fhwa.dot.gov/policyinformation/hpms/shapefiles//georgia2015.zip',\n",
       " 'https://www.fhwa.dot.gov/policyinformation/hpms/shapefiles//hawaii2015.zip',\n",
       " 'https://www.fhwa.dot.gov/policyinformation/hpms/shapefiles//idaho2015.zip',\n",
       " 'https://www.fhwa.dot.gov/policyinformation/hpms/shapefiles//illinois2015.zip',\n",
       " 'https://www.fhwa.dot.gov/policyinformation/hpms/shapefiles//indiana2015.zip',\n",
       " 'https://www.fhwa.dot.gov/policyinformation/hpms/shapefiles//iowa2015.zip',\n",
       " 'https://www.fhwa.dot.gov/policyinformation/hpms/shapefiles//kansas2015.zip',\n",
       " 'https://www.fhwa.dot.gov/policyinformation/hpms/shapefiles//kentucky2015.zip',\n",
       " 'https://www.fhwa.dot.gov/policyinformation/hpms/shapefiles//louisiana2015.zip',\n",
       " 'https://www.fhwa.dot.gov/policyinformation/hpms/shapefiles//maine2015.zip',\n",
       " 'https://www.fhwa.dot.gov/policyinformation/hpms/shapefiles//maryland2015.zip',\n",
       " 'https://www.fhwa.dot.gov/policyinformation/hpms/shapefiles//massachusetts2015.zip',\n",
       " 'https://www.fhwa.dot.gov/policyinformation/hpms/shapefiles//michigan2015.zip',\n",
       " 'https://www.fhwa.dot.gov/policyinformation/hpms/shapefiles//minnesota2015.zip',\n",
       " 'https://www.fhwa.dot.gov/policyinformation/hpms/shapefiles//mississippi2015.zip',\n",
       " 'https://www.fhwa.dot.gov/policyinformation/hpms/shapefiles//missouri2015.zip',\n",
       " 'https://www.fhwa.dot.gov/policyinformation/hpms/shapefiles//montana2015.zip',\n",
       " 'https://www.fhwa.dot.gov/policyinformation/hpms/shapefiles//nebraska2015.zip',\n",
       " 'https://www.fhwa.dot.gov/policyinformation/hpms/shapefiles//nevada2015.zip',\n",
       " 'https://www.fhwa.dot.gov/policyinformation/hpms/shapefiles//newhampshire2015.zip',\n",
       " 'https://www.fhwa.dot.gov/policyinformation/hpms/shapefiles//newjersey2015.zip',\n",
       " 'https://www.fhwa.dot.gov/policyinformation/hpms/shapefiles//newmexico2015.zip',\n",
       " 'https://www.fhwa.dot.gov/policyinformation/hpms/shapefiles//newyork2015.zip',\n",
       " 'https://www.fhwa.dot.gov/policyinformation/hpms/shapefiles//northcarolina2015.zip',\n",
       " 'https://www.fhwa.dot.gov/policyinformation/hpms/shapefiles//northdakota2015.zip',\n",
       " 'https://www.fhwa.dot.gov/policyinformation/hpms/shapefiles//ohio2015.zip',\n",
       " 'https://www.fhwa.dot.gov/policyinformation/hpms/shapefiles//oklahoma2015.zip',\n",
       " 'https://www.fhwa.dot.gov/policyinformation/hpms/shapefiles//oregon2015.zip',\n",
       " 'https://www.fhwa.dot.gov/policyinformation/hpms/shapefiles//pennsylvania2015.zip',\n",
       " 'https://www.fhwa.dot.gov/policyinformation/hpms/shapefiles//rhodeisland2015.zip',\n",
       " 'https://www.fhwa.dot.gov/policyinformation/hpms/shapefiles//southcarolina2015.zip',\n",
       " 'https://www.fhwa.dot.gov/policyinformation/hpms/shapefiles//southdakota2015.zip',\n",
       " 'https://www.fhwa.dot.gov/policyinformation/hpms/shapefiles//tennessee2015.zip',\n",
       " 'https://www.fhwa.dot.gov/policyinformation/hpms/shapefiles//texas2015.zip',\n",
       " 'https://www.fhwa.dot.gov/policyinformation/hpms/shapefiles//utah2015.zip',\n",
       " 'https://www.fhwa.dot.gov/policyinformation/hpms/shapefiles//vermont2015.zip',\n",
       " 'https://www.fhwa.dot.gov/policyinformation/hpms/shapefiles//virginia2015.zip',\n",
       " 'https://www.fhwa.dot.gov/policyinformation/hpms/shapefiles//washington2015.zip',\n",
       " 'https://www.fhwa.dot.gov/policyinformation/hpms/shapefiles//westvirginia2015.zip',\n",
       " 'https://www.fhwa.dot.gov/policyinformation/hpms/shapefiles//wisconsin2015.zip',\n",
       " 'https://www.fhwa.dot.gov/policyinformation/hpms/shapefiles//wyoming2015.zip',\n",
       " 'https://www.fhwa.dot.gov/policyinformation/hpms/shapefiles//district2015.zip']"
      ]
     },
     "execution_count": 6,
     "metadata": {},
     "output_type": "execute_result"
    }
   ],
   "source": [
    "# Create a list of download URLs\n",
    "download_urls = [\"{0}/{1}{2}.zip\".format(baseline_download_url, state, year) for state in states_list]\n",
    "download_urls   "
   ]
  },
  {
   "cell_type": "markdown",
   "metadata": {},
   "source": [
    "### 2. Iterate on states to download and convert"
   ]
  },
  {
   "cell_type": "code",
   "execution_count": 9,
   "metadata": {
    "collapsed": true
   },
   "outputs": [],
   "source": [
    "# Create the workspace file geodatabase\n",
    "workspace_gdb = arcpy.CreateFileGDB_management(workspace, \"hpms_workspace\").getOutput(0)"
   ]
  },
  {
   "cell_type": "code",
   "execution_count": null,
   "metadata": {
    "scrolled": true
   },
   "outputs": [],
   "source": [
    "# Download iteration loop\n",
    "for download_url in download_urls:\n",
    "    state_name = download_url.split(\"//\")[-1].split(\".\")[0]\n",
    "    print(\"Downloading {0}...\".format(state_name))\n",
    "    response = requests.get(download_url)\n",
    "    zipDocument = zipfile.ZipFile(io.BytesIO(response.content))\n",
    "    shapefile_folder = os.makedirs(os.path.join(workspace, state_name))\n",
    "    zipDocument.extractall(path=shapefile_folder)"
   ]
  },
  {
   "cell_type": "code",
   "execution_count": null,
   "metadata": {
    "collapsed": true
   },
   "outputs": [],
   "source": [
    "response = requests.get(download_urls[0])"
   ]
  },
  {
   "cell_type": "code",
   "execution_count": null,
   "metadata": {
    "collapsed": true
   },
   "outputs": [],
   "source": [
    "response"
   ]
  },
  {
   "cell_type": "code",
   "execution_count": null,
   "metadata": {
    "collapsed": true
   },
   "outputs": [],
   "source": []
  }
 ],
 "metadata": {
  "kernelspec": {
   "display_name": "Python 3",
   "language": "python",
   "name": "python3"
  },
  "language_info": {
   "codemirror_mode": {
    "name": "ipython",
    "version": 3
   },
   "file_extension": ".py",
   "mimetype": "text/x-python",
   "name": "python",
   "nbconvert_exporter": "python",
   "pygments_lexer": "ipython3",
   "version": "3.5.3"
  }
 },
 "nbformat": 4,
 "nbformat_minor": 2
}
