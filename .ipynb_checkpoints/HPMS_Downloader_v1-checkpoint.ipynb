{
 "cells": [
  {
   "cell_type": "markdown",
   "metadata": {},
   "source": [
    "### Pseudocode\n",
    "\n",
    "Goal: Scripted process to download HPMS shapefiles from FHWA website, compile into a single feature class, and provide output as a single zipped file geodatabase. A second goal is to publish this data as a service using the ArcGIS API for Python.\n",
    "\n",
    "### Process\n",
    "\n",
    "1. Create list of download urls\n",
    "\n",
    "2. Iterate on the list, download zip, and execute main zip->shapefile->feature class conversion loop\n",
    "\n",
    "3. Merge all feature classes into a single feature class for nation-wide HPMS\n",
    "\n",
    "4. Provide output as zipped file geodatabase. \n",
    "\n",
    "\n",
    "### Dependencies\n",
    "\n",
    "- 'us' module. To install, run \"pip install us\"\n",
    "- 'arcpy' module"
   ]
  },
  {
   "cell_type": "code",
   "execution_count": null,
   "metadata": {
    "collapsed": true
   },
   "outputs": [],
   "source": [
    "# Import needed modules\n",
    "import us\n",
    "import arcpy\n",
    "import os\n",
    "import requests\n",
    "import zipfile\n",
    "import shutil\n",
    "import io\n",
    "import datetime"
   ]
  },
  {
   "cell_type": "code",
   "execution_count": 6,
   "metadata": {
    "collapsed": true
   },
   "outputs": [],
   "source": [
    "# Set general variables\n",
    "workspace = r\"C:\\Users\\albe9057\\Documents\\ANieto_SolutionEngineering\\Projects\\DOT\\FHWA\\HPMS_Download\\Work\""
   ]
  },
  {
   "cell_type": "markdown",
   "metadata": {},
   "source": [
    "### 1. Create list of download urls"
   ]
  },
  {
   "cell_type": "code",
   "execution_count": 7,
   "metadata": {
    "scrolled": true
   },
   "outputs": [
    {
     "data": {
      "text/plain": [
       "['alabama',\n",
       " 'alaska',\n",
       " 'arizona',\n",
       " 'arkansas',\n",
       " 'california',\n",
       " 'colorado',\n",
       " 'connecticut',\n",
       " 'delaware',\n",
       " 'districtofcolumbia',\n",
       " 'florida',\n",
       " 'georgia',\n",
       " 'hawaii',\n",
       " 'idaho',\n",
       " 'illinois',\n",
       " 'indiana',\n",
       " 'iowa',\n",
       " 'kansas',\n",
       " 'kentucky',\n",
       " 'louisiana',\n",
       " 'maine',\n",
       " 'maryland',\n",
       " 'massachusetts',\n",
       " 'michigan',\n",
       " 'minnesota',\n",
       " 'mississippi',\n",
       " 'missouri',\n",
       " 'montana',\n",
       " 'nebraska',\n",
       " 'nevada',\n",
       " 'newhampshire',\n",
       " 'newjersey',\n",
       " 'newmexico',\n",
       " 'newyork',\n",
       " 'northcarolina',\n",
       " 'northdakota',\n",
       " 'ohio',\n",
       " 'oklahoma',\n",
       " 'oregon',\n",
       " 'pennsylvania',\n",
       " 'rhodeisland',\n",
       " 'southcarolina',\n",
       " 'southdakota',\n",
       " 'tennessee',\n",
       " 'texas',\n",
       " 'utah',\n",
       " 'vermont',\n",
       " 'virginia',\n",
       " 'washington',\n",
       " 'westvirginia',\n",
       " 'wisconsin',\n",
       " 'wyoming']"
      ]
     },
     "execution_count": 7,
     "metadata": {},
     "output_type": "execute_result"
    }
   ],
   "source": [
    "states_list = [state.name.lower().replace(\" \", \"\") for state in us.states.STATES]\n",
    "states_list"
   ]
  },
  {
   "cell_type": "code",
   "execution_count": 11,
   "metadata": {
    "collapsed": true
   },
   "outputs": [],
   "source": [
    "# Create a state data crosswalk dictionary\n",
    "state_crosswalk_dict = {\n",
    "    \"districtofcolumbia\": 'district'\n",
    "}"
   ]
  },
  {
   "cell_type": "code",
   "execution_count": 22,
   "metadata": {
    "collapsed": true
   },
   "outputs": [],
   "source": [
    "# Create a URL crosswalk dictionary\n",
    "url_crosswalk_dict = {\n",
    "    'https://www.fhwa.dot.gov/policyinformation/hpms/shapefiles//missouri2015.zip': 'https://www.fhwa.dot.gov/policyinformation/hpms/shapefiles//missouri2015t.zip'\n",
    "}"
   ]
  },
  {
   "cell_type": "code",
   "execution_count": 36,
   "metadata": {
    "collapsed": true
   },
   "outputs": [],
   "source": [
    "# Create a shapefile name crosswalk dictionary\n",
    "shapefile_crosswalk_dict = {\n",
    "    \"Missouri_Sections.shp\": \"Missouri_Sectionst.shp\"\n",
    "}"
   ]
  },
  {
   "cell_type": "code",
   "execution_count": 13,
   "metadata": {
    "collapsed": true
   },
   "outputs": [],
   "source": [
    "# Perform state corrections for download urls\n",
    "for state in state_crosswalk_dict:\n",
    "    if state in states_list:\n",
    "        states_list.remove(state)\n",
    "        states_list.append(state_crosswalk_dict[state])"
   ]
  },
  {
   "cell_type": "markdown",
   "metadata": {},
   "source": [
    "Download Access URL: https://www.fhwa.dot.gov/policyinformation/hpms/shapefiles.cfm"
   ]
  },
  {
   "cell_type": "code",
   "execution_count": 14,
   "metadata": {
    "collapsed": true
   },
   "outputs": [],
   "source": [
    "# Get the baseline part of the download url\n",
    "baseline_download_url = r\"https://www.fhwa.dot.gov/policyinformation/hpms/shapefiles/\"\n",
    "year = \"2015\""
   ]
  },
  {
   "cell_type": "code",
   "execution_count": 24,
   "metadata": {
    "scrolled": true
   },
   "outputs": [
    {
     "data": {
      "text/plain": [
       "['https://www.fhwa.dot.gov/policyinformation/hpms/shapefiles//alabama2015.zip',\n",
       " 'https://www.fhwa.dot.gov/policyinformation/hpms/shapefiles//alaska2015.zip',\n",
       " 'https://www.fhwa.dot.gov/policyinformation/hpms/shapefiles//arizona2015.zip',\n",
       " 'https://www.fhwa.dot.gov/policyinformation/hpms/shapefiles//arkansas2015.zip',\n",
       " 'https://www.fhwa.dot.gov/policyinformation/hpms/shapefiles//california2015.zip',\n",
       " 'https://www.fhwa.dot.gov/policyinformation/hpms/shapefiles//colorado2015.zip',\n",
       " 'https://www.fhwa.dot.gov/policyinformation/hpms/shapefiles//connecticut2015.zip',\n",
       " 'https://www.fhwa.dot.gov/policyinformation/hpms/shapefiles//delaware2015.zip',\n",
       " 'https://www.fhwa.dot.gov/policyinformation/hpms/shapefiles//florida2015.zip',\n",
       " 'https://www.fhwa.dot.gov/policyinformation/hpms/shapefiles//georgia2015.zip',\n",
       " 'https://www.fhwa.dot.gov/policyinformation/hpms/shapefiles//hawaii2015.zip',\n",
       " 'https://www.fhwa.dot.gov/policyinformation/hpms/shapefiles//idaho2015.zip',\n",
       " 'https://www.fhwa.dot.gov/policyinformation/hpms/shapefiles//illinois2015.zip',\n",
       " 'https://www.fhwa.dot.gov/policyinformation/hpms/shapefiles//indiana2015.zip',\n",
       " 'https://www.fhwa.dot.gov/policyinformation/hpms/shapefiles//iowa2015.zip',\n",
       " 'https://www.fhwa.dot.gov/policyinformation/hpms/shapefiles//kansas2015.zip',\n",
       " 'https://www.fhwa.dot.gov/policyinformation/hpms/shapefiles//kentucky2015.zip',\n",
       " 'https://www.fhwa.dot.gov/policyinformation/hpms/shapefiles//louisiana2015.zip',\n",
       " 'https://www.fhwa.dot.gov/policyinformation/hpms/shapefiles//maine2015.zip',\n",
       " 'https://www.fhwa.dot.gov/policyinformation/hpms/shapefiles//maryland2015.zip',\n",
       " 'https://www.fhwa.dot.gov/policyinformation/hpms/shapefiles//massachusetts2015.zip',\n",
       " 'https://www.fhwa.dot.gov/policyinformation/hpms/shapefiles//michigan2015.zip',\n",
       " 'https://www.fhwa.dot.gov/policyinformation/hpms/shapefiles//minnesota2015.zip',\n",
       " 'https://www.fhwa.dot.gov/policyinformation/hpms/shapefiles//mississippi2015.zip',\n",
       " 'https://www.fhwa.dot.gov/policyinformation/hpms/shapefiles//missouri2015t.zip',\n",
       " 'https://www.fhwa.dot.gov/policyinformation/hpms/shapefiles//montana2015.zip',\n",
       " 'https://www.fhwa.dot.gov/policyinformation/hpms/shapefiles//nebraska2015.zip',\n",
       " 'https://www.fhwa.dot.gov/policyinformation/hpms/shapefiles//nevada2015.zip',\n",
       " 'https://www.fhwa.dot.gov/policyinformation/hpms/shapefiles//newhampshire2015.zip',\n",
       " 'https://www.fhwa.dot.gov/policyinformation/hpms/shapefiles//newjersey2015.zip',\n",
       " 'https://www.fhwa.dot.gov/policyinformation/hpms/shapefiles//newmexico2015.zip',\n",
       " 'https://www.fhwa.dot.gov/policyinformation/hpms/shapefiles//newyork2015.zip',\n",
       " 'https://www.fhwa.dot.gov/policyinformation/hpms/shapefiles//northcarolina2015.zip',\n",
       " 'https://www.fhwa.dot.gov/policyinformation/hpms/shapefiles//northdakota2015.zip',\n",
       " 'https://www.fhwa.dot.gov/policyinformation/hpms/shapefiles//ohio2015.zip',\n",
       " 'https://www.fhwa.dot.gov/policyinformation/hpms/shapefiles//oklahoma2015.zip',\n",
       " 'https://www.fhwa.dot.gov/policyinformation/hpms/shapefiles//oregon2015.zip',\n",
       " 'https://www.fhwa.dot.gov/policyinformation/hpms/shapefiles//pennsylvania2015.zip',\n",
       " 'https://www.fhwa.dot.gov/policyinformation/hpms/shapefiles//rhodeisland2015.zip',\n",
       " 'https://www.fhwa.dot.gov/policyinformation/hpms/shapefiles//southcarolina2015.zip',\n",
       " 'https://www.fhwa.dot.gov/policyinformation/hpms/shapefiles//southdakota2015.zip',\n",
       " 'https://www.fhwa.dot.gov/policyinformation/hpms/shapefiles//tennessee2015.zip',\n",
       " 'https://www.fhwa.dot.gov/policyinformation/hpms/shapefiles//texas2015.zip',\n",
       " 'https://www.fhwa.dot.gov/policyinformation/hpms/shapefiles//utah2015.zip',\n",
       " 'https://www.fhwa.dot.gov/policyinformation/hpms/shapefiles//vermont2015.zip',\n",
       " 'https://www.fhwa.dot.gov/policyinformation/hpms/shapefiles//virginia2015.zip',\n",
       " 'https://www.fhwa.dot.gov/policyinformation/hpms/shapefiles//washington2015.zip',\n",
       " 'https://www.fhwa.dot.gov/policyinformation/hpms/shapefiles//westvirginia2015.zip',\n",
       " 'https://www.fhwa.dot.gov/policyinformation/hpms/shapefiles//wisconsin2015.zip',\n",
       " 'https://www.fhwa.dot.gov/policyinformation/hpms/shapefiles//wyoming2015.zip',\n",
       " 'https://www.fhwa.dot.gov/policyinformation/hpms/shapefiles//district2015.zip']"
      ]
     },
     "execution_count": 24,
     "metadata": {},
     "output_type": "execute_result"
    }
   ],
   "source": [
    "# Create a list of download URLs, checking against the URL crosswalk to make sure we account for exceptions\n",
    "download_urls = []\n",
    "for state in states_list:\n",
    "    if \"{0}/{1}{2}.zip\".format(baseline_download_url, state, year) not in url_crosswalk_dict:\n",
    "        download_urls.append(\"{0}/{1}{2}.zip\".format(baseline_download_url, state, year))\n",
    "    else:\n",
    "        download_urls.append(url_crosswalk_dict[\"{0}/{1}{2}.zip\".format(baseline_download_url, state, year)])\n",
    "download_urls        "
   ]
  },
  {
   "cell_type": "code",
   "execution_count": 25,
   "metadata": {
    "scrolled": true
   },
   "outputs": [],
   "source": [
    "# Create a list of download URLs\n",
    "# download_urls = [\"{0}/{1}{2}.zip\".format(baseline_download_url, state, year) for state in states_list]\n",
    "# download_urls   "
   ]
  },
  {
   "cell_type": "markdown",
   "metadata": {},
   "source": [
    "### 2. Iterate on states to download and convert"
   ]
  },
  {
   "cell_type": "code",
   "execution_count": 33,
   "metadata": {
    "scrolled": true
   },
   "outputs": [
    {
     "data": {
      "text/plain": [
       "'C:\\\\Users\\\\albe9057\\\\Documents\\\\ANieto_SolutionEngineering\\\\Projects\\\\DOT\\\\FHWA\\\\HPMS_Download\\\\Work\\\\hpms_workspace.gdb'"
      ]
     },
     "execution_count": 33,
     "metadata": {},
     "output_type": "execute_result"
    }
   ],
   "source": [
    "# Create the workspace file geodatabase\n",
    "workspace_gdb = arcpy.CreateFileGDB_management(workspace, \"hpms_workspace\").getOutput(0) if not arcpy.Exists(os.path.join(workspace, \"hpms_workspace.gdb\")) else os.path.join(workspace, \"hpms_workspace.gdb\")\n",
    "workspace_gdb"
   ]
  },
  {
   "cell_type": "code",
   "execution_count": 66,
   "metadata": {
    "scrolled": true
   },
   "outputs": [
    {
     "name": "stdout",
     "output_type": "stream",
     "text": [
      "Shapefile for alabama2015 already exists. Skipping...\n",
      "Shapefile for alaska2015 already exists. Skipping...\n",
      "Shapefile for arizona2015 already exists. Skipping...\n",
      "Shapefile for arkansas2015 already exists. Skipping...\n",
      "Shapefile for california2015 already exists. Skipping...\n",
      "Shapefile for colorado2015 already exists. Skipping...\n",
      "Shapefile for connecticut2015 already exists. Skipping...\n",
      "Shapefile for delaware2015 already exists. Skipping...\n",
      "Shapefile for florida2015 already exists. Skipping...\n",
      "Shapefile for georgia2015 already exists. Skipping...\n",
      "Shapefile for hawaii2015 already exists. Skipping...\n",
      "Shapefile for idaho2015 already exists. Skipping...\n",
      "Shapefile for illinois2015 already exists. Skipping...\n",
      "Shapefile for indiana2015 already exists. Skipping...\n",
      "Shapefile for iowa2015 already exists. Skipping...\n",
      "Shapefile for kansas2015 already exists. Skipping...\n",
      "Shapefile for kentucky2015 already exists. Skipping...\n",
      "Shapefile for louisiana2015 already exists. Skipping...\n",
      "Shapefile for maine2015 already exists. Skipping...\n",
      "Shapefile for maryland2015 already exists. Skipping...\n",
      "Shapefile for massachusetts2015 already exists. Skipping...\n",
      "Shapefile for michigan2015 already exists. Skipping...\n",
      "Shapefile for minnesota2015 already exists. Skipping...\n",
      "Shapefile for mississippi2015 already exists. Skipping...\n",
      "Shapefile for missouri2015t already exists. Skipping...\n",
      "Shapefile for montana2015 already exists. Skipping...\n",
      "Shapefile for nebraska2015 already exists. Skipping...\n",
      "Shapefile for nevada2015 already exists. Skipping...\n",
      "Shapefile for newhampshire2015 already exists. Skipping...\n",
      "Shapefile for newjersey2015 already exists. Skipping...\n",
      "Shapefile for newmexico2015 already exists. Skipping...\n",
      "Shapefile for newyork2015 already exists. Skipping...\n",
      "Shapefile for northcarolina2015 already exists. Skipping...\n",
      "Shapefile for northdakota2015 already exists. Skipping...\n",
      "Shapefile for ohio2015 already exists. Skipping...\n",
      "Shapefile for oklahoma2015 already exists. Skipping...\n",
      "Shapefile for oregon2015 already exists. Skipping...\n",
      "Shapefile for pennsylvania2015 already exists. Skipping...\n",
      "Shapefile for rhodeisland2015 already exists. Skipping...\n",
      "Shapefile for southcarolina2015 already exists. Skipping...\n",
      "Shapefile for southdakota2015 already exists. Skipping...\n",
      "Shapefile for tennessee2015 already exists. Skipping...\n",
      "Shapefile for texas2015 already exists. Skipping...\n",
      "Shapefile for utah2015 already exists. Skipping...\n",
      "Shapefile for vermont2015 already exists. Skipping...\n",
      "Shapefile for virginia2015 already exists. Skipping...\n",
      "Shapefile for washington2015 already exists. Skipping...\n",
      "Shapefile for westvirginia2015 already exists. Skipping...\n",
      "Shapefile for wisconsin2015 already exists. Skipping...\n",
      "Shapefile for wyoming2015 already exists. Skipping...\n",
      "Shapefile for district2015 already exists. Skipping...\n"
     ]
    }
   ],
   "source": [
    "# Create containers for shapefile paths and folder paths for the merge operation after the loop\n",
    "shapefiles_list = []\n",
    "folders_list = []\n",
    "\n",
    "# Download iteration loop\n",
    "for download_url in download_urls:   \n",
    "    \n",
    "    # Get the state+year string by slicing the download URL\n",
    "    stateyear_name = download_url.split(\"//\")[-1].split(\".\")[0]\n",
    "    shapefile_folder = os.path.join(workspace, stateyear_name)\n",
    "    \n",
    "    # Handle the \"lovely\" Missouri naming exception\n",
    "    shapefile_name_string = \"_Sectionst.shp\" if stateyear_name == \"missouri2015t\" else \"_Sections.shp\"\n",
    "\n",
    "    # Establish the shapefile path\n",
    "    shapefile_path = os.path.join(shapefile_folder, \"{0}{1}\".format(stateyear_name.split(\"2\")[0].capitalize(), shapefile_name_string))\n",
    "    \n",
    "    # Determine if the shapefile already exists, and skip the download if that's the case\n",
    "    if os.path.exists(shapefile_path):\n",
    "        print(\"Shapefile for {0} already exists. Skipping...\".format(stateyear_name))\n",
    "        shapefiles_list.append(shapefile_path)\n",
    "        continue\n",
    "    \n",
    "    # Send a request to the url, download the shapefile, and unzip to the work folder for the state\n",
    "    print(\"Downloading {0}...\".format(stateyear_name))\n",
    "    response = requests.get(download_url)\n",
    "    # Unzip our request content to a specified folder (making it along the way)\n",
    "    zipDocument = zipfile.ZipFile(io.BytesIO(response.content))\n",
    "    os.makedirs(shapefile_folder)\n",
    "    os.chdir(shapefile_folder)\n",
    "    zipDocument.extractall(path=shapefile_folder)\n",
    "    # Append the shapefile path to the shapefiles_list variable\n",
    "    shapefiles_list.append(shapefile_path)"
   ]
  },
  {
   "cell_type": "code",
   "execution_count": 67,
   "metadata": {
    "collapsed": true
   },
   "outputs": [],
   "source": [
    "# Create a log file containing output information\n",
    "## Pending"
   ]
  },
  {
   "cell_type": "code",
   "execution_count": 68,
   "metadata": {
    "scrolled": true
   },
   "outputs": [
    {
     "name": "stdout",
     "output_type": "stream",
     "text": [
      "Pre-QC shapefile count: 51\n",
      "C:\\Users\\albe9057\\Documents\\ANieto_SolutionEngineering\\Projects\\DOT\\FHWA\\HPMS_Download\\Work\\missouri2015t\\Missouri_Sectionst.shp Null\n",
      "C:\\Users\\albe9057\\Documents\\ANieto_SolutionEngineering\\Projects\\DOT\\FHWA\\HPMS_Download\\Work\\utah2015\\Utah_Sections.shp Null\n",
      "Post-QC shapefile count: 49\n"
     ]
    }
   ],
   "source": [
    "# QC shapefiles for valid geometry and shape type before merging. Remove any shapefiles without Polyline shape types.\n",
    "print(\"Pre-QC shapefile count: {0}\".format(len(shapefiles_list)))\n",
    "for shapefile in shapefiles_list:\n",
    "    desc = arcpy.Describe(shapefile)\n",
    "    if desc.shapeType != \"Polyline\":\n",
    "        print(shapefile, desc.shapeType)\n",
    "        shapefiles_list.remove(shapefile)\n",
    "print(\"Post-QC shapefile count: {0}\".format(len(shapefiles_list)))"
   ]
  },
  {
   "cell_type": "code",
   "execution_count": null,
   "metadata": {
    "scrolled": true
   },
   "outputs": [],
   "source": [
    "# Perform an arcpy merge using the shapefiles list from the iteration above\n",
    "output_fc_path = os.path.join(workspace_gdb, \"HPMS_National_{0}\".format(year))\n",
    "output_hpms_fc = arcpy.Merge_management(inputs=shapefiles_list, output=output_fc_path).getOutput(0)\n",
    "output_hpms_fc"
   ]
  },
  {
   "cell_type": "code",
   "execution_count": null,
   "metadata": {
    "collapsed": true
   },
   "outputs": [],
   "source": [
    "# Zip up the HPMS file geodatabase and provide as an output\n",
    "out_zipped_fgdb = os.path.join(workspace, \"HPMS_National_{0}.zip\".format(year))\n",
    "shutil.make_archive(out_zipped_fgdb, \"zip\", workspace_gdb)"
   ]
  }
 ],
 "metadata": {
  "kernelspec": {
   "display_name": "Python 3",
   "language": "python",
   "name": "python3"
  },
  "language_info": {
   "codemirror_mode": {
    "name": "ipython",
    "version": 3
   },
   "file_extension": ".py",
   "mimetype": "text/x-python",
   "name": "python",
   "nbconvert_exporter": "python",
   "pygments_lexer": "ipython3",
   "version": "3.5.3"
  }
 },
 "nbformat": 4,
 "nbformat_minor": 2
}
